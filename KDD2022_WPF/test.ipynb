{
 "cells": [
  {
   "cell_type": "code",
   "execution_count": 1,
   "metadata": {},
   "outputs": [],
   "source": [
    "import pandas as pd\n",
    "\n",
    "path = './data/all_data/all_data.csv'\n",
    "res = pd.read_csv(path)"
   ]
  },
  {
   "cell_type": "code",
   "execution_count": 2,
   "metadata": {},
   "outputs": [
    {
     "data": {
      "text/html": [
       "<div>\n",
       "<style scoped>\n",
       "    .dataframe tbody tr th:only-of-type {\n",
       "        vertical-align: middle;\n",
       "    }\n",
       "\n",
       "    .dataframe tbody tr th {\n",
       "        vertical-align: top;\n",
       "    }\n",
       "\n",
       "    .dataframe thead th {\n",
       "        text-align: right;\n",
       "    }\n",
       "</style>\n",
       "<table border=\"1\" class=\"dataframe\">\n",
       "  <thead>\n",
       "    <tr style=\"text-align: right;\">\n",
       "      <th></th>\n",
       "      <th>TurbID</th>\n",
       "      <th>Day</th>\n",
       "      <th>Tmstamp</th>\n",
       "      <th>Wspd</th>\n",
       "      <th>Wdir</th>\n",
       "      <th>Etmp</th>\n",
       "      <th>Itmp</th>\n",
       "      <th>Ndir</th>\n",
       "      <th>Pab1</th>\n",
       "      <th>Pab2</th>\n",
       "      <th>Pab3</th>\n",
       "      <th>Prtv</th>\n",
       "      <th>Patv</th>\n",
       "    </tr>\n",
       "  </thead>\n",
       "  <tbody>\n",
       "    <tr>\n",
       "      <th>0</th>\n",
       "      <td>1</td>\n",
       "      <td>1</td>\n",
       "      <td>0</td>\n",
       "      <td>6.17</td>\n",
       "      <td>-3.99</td>\n",
       "      <td>30.73</td>\n",
       "      <td>41.80</td>\n",
       "      <td>25.92</td>\n",
       "      <td>1.0</td>\n",
       "      <td>1.0</td>\n",
       "      <td>1.0</td>\n",
       "      <td>-0.25</td>\n",
       "      <td>494.66</td>\n",
       "    </tr>\n",
       "    <tr>\n",
       "      <th>1</th>\n",
       "      <td>1</td>\n",
       "      <td>1</td>\n",
       "      <td>1</td>\n",
       "      <td>6.17</td>\n",
       "      <td>-3.99</td>\n",
       "      <td>30.73</td>\n",
       "      <td>41.80</td>\n",
       "      <td>25.92</td>\n",
       "      <td>1.0</td>\n",
       "      <td>1.0</td>\n",
       "      <td>1.0</td>\n",
       "      <td>-0.25</td>\n",
       "      <td>494.66</td>\n",
       "    </tr>\n",
       "    <tr>\n",
       "      <th>2</th>\n",
       "      <td>1</td>\n",
       "      <td>1</td>\n",
       "      <td>2</td>\n",
       "      <td>6.27</td>\n",
       "      <td>-2.18</td>\n",
       "      <td>30.60</td>\n",
       "      <td>41.63</td>\n",
       "      <td>20.91</td>\n",
       "      <td>1.0</td>\n",
       "      <td>1.0</td>\n",
       "      <td>1.0</td>\n",
       "      <td>-0.24</td>\n",
       "      <td>509.76</td>\n",
       "    </tr>\n",
       "    <tr>\n",
       "      <th>3</th>\n",
       "      <td>1</td>\n",
       "      <td>1</td>\n",
       "      <td>3</td>\n",
       "      <td>6.42</td>\n",
       "      <td>-0.73</td>\n",
       "      <td>30.52</td>\n",
       "      <td>41.52</td>\n",
       "      <td>20.91</td>\n",
       "      <td>1.0</td>\n",
       "      <td>1.0</td>\n",
       "      <td>1.0</td>\n",
       "      <td>-0.26</td>\n",
       "      <td>542.53</td>\n",
       "    </tr>\n",
       "    <tr>\n",
       "      <th>4</th>\n",
       "      <td>1</td>\n",
       "      <td>1</td>\n",
       "      <td>4</td>\n",
       "      <td>6.25</td>\n",
       "      <td>0.89</td>\n",
       "      <td>30.49</td>\n",
       "      <td>41.38</td>\n",
       "      <td>20.91</td>\n",
       "      <td>1.0</td>\n",
       "      <td>1.0</td>\n",
       "      <td>1.0</td>\n",
       "      <td>-0.23</td>\n",
       "      <td>509.36</td>\n",
       "    </tr>\n",
       "  </tbody>\n",
       "</table>\n",
       "</div>"
      ],
      "text/plain": [
       "   TurbID  Day  Tmstamp  Wspd  Wdir   Etmp   Itmp   Ndir  Pab1  Pab2  Pab3  \\\n",
       "0       1    1        0  6.17 -3.99  30.73  41.80  25.92   1.0   1.0   1.0   \n",
       "1       1    1        1  6.17 -3.99  30.73  41.80  25.92   1.0   1.0   1.0   \n",
       "2       1    1        2  6.27 -2.18  30.60  41.63  20.91   1.0   1.0   1.0   \n",
       "3       1    1        3  6.42 -0.73  30.52  41.52  20.91   1.0   1.0   1.0   \n",
       "4       1    1        4  6.25  0.89  30.49  41.38  20.91   1.0   1.0   1.0   \n",
       "\n",
       "   Prtv    Patv  \n",
       "0 -0.25  494.66  \n",
       "1 -0.25  494.66  \n",
       "2 -0.24  509.76  \n",
       "3 -0.26  542.53  \n",
       "4 -0.23  509.36  "
      ]
     },
     "execution_count": 2,
     "metadata": {},
     "output_type": "execute_result"
    }
   ],
   "source": [
    "res.head()"
   ]
  },
  {
   "cell_type": "code",
   "execution_count": 3,
   "metadata": {},
   "outputs": [
    {
     "data": {
      "text/plain": [
       "4727520"
      ]
     },
     "execution_count": 3,
     "metadata": {},
     "output_type": "execute_result"
    }
   ],
   "source": [
    "len(res)"
   ]
  },
  {
   "cell_type": "code",
   "execution_count": 4,
   "metadata": {},
   "outputs": [],
   "source": [
    "res_gp = res.groupby('TurbID')"
   ]
  },
  {
   "cell_type": "code",
   "execution_count": 6,
   "metadata": {},
   "outputs": [
    {
     "data": {
      "text/html": [
       "<div>\n",
       "<style scoped>\n",
       "    .dataframe tbody tr th:only-of-type {\n",
       "        vertical-align: middle;\n",
       "    }\n",
       "\n",
       "    .dataframe tbody tr th {\n",
       "        vertical-align: top;\n",
       "    }\n",
       "\n",
       "    .dataframe thead th {\n",
       "        text-align: right;\n",
       "    }\n",
       "</style>\n",
       "<table border=\"1\" class=\"dataframe\">\n",
       "  <thead>\n",
       "    <tr style=\"text-align: right;\">\n",
       "      <th></th>\n",
       "      <th>TurbID</th>\n",
       "      <th>Day</th>\n",
       "      <th>Tmstamp</th>\n",
       "      <th>Wspd</th>\n",
       "      <th>Wdir</th>\n",
       "      <th>Etmp</th>\n",
       "      <th>Itmp</th>\n",
       "      <th>Ndir</th>\n",
       "      <th>Pab1</th>\n",
       "      <th>Pab2</th>\n",
       "      <th>Pab3</th>\n",
       "      <th>Prtv</th>\n",
       "      <th>Patv</th>\n",
       "    </tr>\n",
       "  </thead>\n",
       "  <tbody>\n",
       "    <tr>\n",
       "      <th>0</th>\n",
       "      <td>1</td>\n",
       "      <td>1</td>\n",
       "      <td>0</td>\n",
       "      <td>6.17</td>\n",
       "      <td>-3.99</td>\n",
       "      <td>30.73</td>\n",
       "      <td>41.80</td>\n",
       "      <td>25.92</td>\n",
       "      <td>1.00</td>\n",
       "      <td>1.00</td>\n",
       "      <td>1.00</td>\n",
       "      <td>-0.25</td>\n",
       "      <td>494.66</td>\n",
       "    </tr>\n",
       "    <tr>\n",
       "      <th>1</th>\n",
       "      <td>1</td>\n",
       "      <td>1</td>\n",
       "      <td>1</td>\n",
       "      <td>6.17</td>\n",
       "      <td>-3.99</td>\n",
       "      <td>30.73</td>\n",
       "      <td>41.80</td>\n",
       "      <td>25.92</td>\n",
       "      <td>1.00</td>\n",
       "      <td>1.00</td>\n",
       "      <td>1.00</td>\n",
       "      <td>-0.25</td>\n",
       "      <td>494.66</td>\n",
       "    </tr>\n",
       "    <tr>\n",
       "      <th>2</th>\n",
       "      <td>1</td>\n",
       "      <td>1</td>\n",
       "      <td>2</td>\n",
       "      <td>6.27</td>\n",
       "      <td>-2.18</td>\n",
       "      <td>30.60</td>\n",
       "      <td>41.63</td>\n",
       "      <td>20.91</td>\n",
       "      <td>1.00</td>\n",
       "      <td>1.00</td>\n",
       "      <td>1.00</td>\n",
       "      <td>-0.24</td>\n",
       "      <td>509.76</td>\n",
       "    </tr>\n",
       "    <tr>\n",
       "      <th>3</th>\n",
       "      <td>1</td>\n",
       "      <td>1</td>\n",
       "      <td>3</td>\n",
       "      <td>6.42</td>\n",
       "      <td>-0.73</td>\n",
       "      <td>30.52</td>\n",
       "      <td>41.52</td>\n",
       "      <td>20.91</td>\n",
       "      <td>1.00</td>\n",
       "      <td>1.00</td>\n",
       "      <td>1.00</td>\n",
       "      <td>-0.26</td>\n",
       "      <td>542.53</td>\n",
       "    </tr>\n",
       "    <tr>\n",
       "      <th>4</th>\n",
       "      <td>1</td>\n",
       "      <td>1</td>\n",
       "      <td>4</td>\n",
       "      <td>6.25</td>\n",
       "      <td>0.89</td>\n",
       "      <td>30.49</td>\n",
       "      <td>41.38</td>\n",
       "      <td>20.91</td>\n",
       "      <td>1.00</td>\n",
       "      <td>1.00</td>\n",
       "      <td>1.00</td>\n",
       "      <td>-0.23</td>\n",
       "      <td>509.36</td>\n",
       "    </tr>\n",
       "    <tr>\n",
       "      <th>...</th>\n",
       "      <td>...</td>\n",
       "      <td>...</td>\n",
       "      <td>...</td>\n",
       "      <td>...</td>\n",
       "      <td>...</td>\n",
       "      <td>...</td>\n",
       "      <td>...</td>\n",
       "      <td>...</td>\n",
       "      <td>...</td>\n",
       "      <td>...</td>\n",
       "      <td>...</td>\n",
       "      <td>...</td>\n",
       "      <td>...</td>\n",
       "    </tr>\n",
       "    <tr>\n",
       "      <th>35275</th>\n",
       "      <td>1</td>\n",
       "      <td>245</td>\n",
       "      <td>139</td>\n",
       "      <td>4.54</td>\n",
       "      <td>1.71</td>\n",
       "      <td>1.13</td>\n",
       "      <td>22.42</td>\n",
       "      <td>252.34</td>\n",
       "      <td>0.34</td>\n",
       "      <td>0.34</td>\n",
       "      <td>0.34</td>\n",
       "      <td>-57.99</td>\n",
       "      <td>301.62</td>\n",
       "    </tr>\n",
       "    <tr>\n",
       "      <th>35276</th>\n",
       "      <td>1</td>\n",
       "      <td>245</td>\n",
       "      <td>140</td>\n",
       "      <td>4.03</td>\n",
       "      <td>1.10</td>\n",
       "      <td>2.09</td>\n",
       "      <td>23.51</td>\n",
       "      <td>252.34</td>\n",
       "      <td>-0.24</td>\n",
       "      <td>-0.24</td>\n",
       "      <td>-0.24</td>\n",
       "      <td>-25.80</td>\n",
       "      <td>244.32</td>\n",
       "    </tr>\n",
       "    <tr>\n",
       "      <th>35277</th>\n",
       "      <td>1</td>\n",
       "      <td>245</td>\n",
       "      <td>141</td>\n",
       "      <td>4.26</td>\n",
       "      <td>-3.19</td>\n",
       "      <td>2.29</td>\n",
       "      <td>24.03</td>\n",
       "      <td>252.34</td>\n",
       "      <td>-0.62</td>\n",
       "      <td>-0.62</td>\n",
       "      <td>-0.62</td>\n",
       "      <td>-27.00</td>\n",
       "      <td>234.93</td>\n",
       "    </tr>\n",
       "    <tr>\n",
       "      <th>35278</th>\n",
       "      <td>1</td>\n",
       "      <td>245</td>\n",
       "      <td>142</td>\n",
       "      <td>4.10</td>\n",
       "      <td>-8.04</td>\n",
       "      <td>2.14</td>\n",
       "      <td>24.16</td>\n",
       "      <td>252.34</td>\n",
       "      <td>-0.78</td>\n",
       "      <td>-0.78</td>\n",
       "      <td>-0.78</td>\n",
       "      <td>-9.16</td>\n",
       "      <td>172.09</td>\n",
       "    </tr>\n",
       "    <tr>\n",
       "      <th>35279</th>\n",
       "      <td>1</td>\n",
       "      <td>245</td>\n",
       "      <td>143</td>\n",
       "      <td>3.88</td>\n",
       "      <td>-1.04</td>\n",
       "      <td>2.04</td>\n",
       "      <td>24.29</td>\n",
       "      <td>243.57</td>\n",
       "      <td>-0.87</td>\n",
       "      <td>-0.87</td>\n",
       "      <td>-0.87</td>\n",
       "      <td>-5.30</td>\n",
       "      <td>174.58</td>\n",
       "    </tr>\n",
       "  </tbody>\n",
       "</table>\n",
       "<p>35280 rows × 13 columns</p>\n",
       "</div>"
      ],
      "text/plain": [
       "       TurbID  Day  Tmstamp  Wspd  Wdir   Etmp   Itmp    Ndir  Pab1  Pab2  \\\n",
       "0           1    1        0  6.17 -3.99  30.73  41.80   25.92  1.00  1.00   \n",
       "1           1    1        1  6.17 -3.99  30.73  41.80   25.92  1.00  1.00   \n",
       "2           1    1        2  6.27 -2.18  30.60  41.63   20.91  1.00  1.00   \n",
       "3           1    1        3  6.42 -0.73  30.52  41.52   20.91  1.00  1.00   \n",
       "4           1    1        4  6.25  0.89  30.49  41.38   20.91  1.00  1.00   \n",
       "...       ...  ...      ...   ...   ...    ...    ...     ...   ...   ...   \n",
       "35275       1  245      139  4.54  1.71   1.13  22.42  252.34  0.34  0.34   \n",
       "35276       1  245      140  4.03  1.10   2.09  23.51  252.34 -0.24 -0.24   \n",
       "35277       1  245      141  4.26 -3.19   2.29  24.03  252.34 -0.62 -0.62   \n",
       "35278       1  245      142  4.10 -8.04   2.14  24.16  252.34 -0.78 -0.78   \n",
       "35279       1  245      143  3.88 -1.04   2.04  24.29  243.57 -0.87 -0.87   \n",
       "\n",
       "       Pab3   Prtv    Patv  \n",
       "0      1.00  -0.25  494.66  \n",
       "1      1.00  -0.25  494.66  \n",
       "2      1.00  -0.24  509.76  \n",
       "3      1.00  -0.26  542.53  \n",
       "4      1.00  -0.23  509.36  \n",
       "...     ...    ...     ...  \n",
       "35275  0.34 -57.99  301.62  \n",
       "35276 -0.24 -25.80  244.32  \n",
       "35277 -0.62 -27.00  234.93  \n",
       "35278 -0.78  -9.16  172.09  \n",
       "35279 -0.87  -5.30  174.58  \n",
       "\n",
       "[35280 rows x 13 columns]"
      ]
     },
     "execution_count": 6,
     "metadata": {},
     "output_type": "execute_result"
    }
   ],
   "source": [
    "res_gp.get_group(1)"
   ]
  },
  {
   "cell_type": "code",
   "execution_count": null,
   "metadata": {},
   "outputs": [],
   "source": [
    "import numpy as np\n",
    "import pickle\n",
    "\n",
    "a = [1, 2 ,3]\n",
    "b = np.ones((288, 1))\n",
    "c = np.min(b)\n",
    "\n",
    "# with open(\"b.pkl\", \"wb\") as g:\n",
    "#     pickle.dump(b, g)\n",
    "# with open(\"b.pkl\", \"rb\") as g:\n",
    "#     c = pickle.load(g)"
   ]
  },
  {
   "cell_type": "code",
   "execution_count": null,
   "metadata": {},
   "outputs": [],
   "source": [
    "type(c)"
   ]
  },
  {
   "cell_type": "markdown",
   "metadata": {},
   "source": [
    "## 保存训练集的均值和方差"
   ]
  },
  {
   "cell_type": "code",
   "execution_count": null,
   "metadata": {},
   "outputs": [],
   "source": [
    "prediction = [0 for i in range(2)]\n",
    "for i in range(1):\n",
    "    prediction[i] = np.array((1, 2))  # , valid_data, test_data)\n",
    "\n",
    "predictions = 1 * prediction[0]\n",
    "print(predictions.shape)"
   ]
  },
  {
   "cell_type": "code",
   "execution_count": null,
   "metadata": {},
   "outputs": [],
   "source": [
    "import os\n",
    "import pickle\n",
    "import numpy as np\n",
    "\n",
    "with open(\"edges.pkl\", \"rb\") as g:\n",
    "    p = pickle.load(g)\n",
    "\n",
    "with open(\"./kddcup22-sdwpf-evaluation/paddlepaddle/tests/test-lxf/checkpoints/0/edges.pkl\", \"rb\") as g:\n",
    "    q = pickle.load(g)\n",
    "\n",
    "print(np.count_nonzero(p != q))"
   ]
  },
  {
   "cell_type": "code",
   "execution_count": null,
   "metadata": {},
   "outputs": [],
   "source": [
    "    import paddle\n",
    "\n",
    "    paddle.device.set_device(\"gpu:0\", \"gpu:1\")\n",
    "    print(paddle.device.get_device())"
   ]
  },
  {
   "cell_type": "code",
   "execution_count": null,
   "metadata": {},
   "outputs": [],
   "source": [
    "import os\n",
    "\n",
    "path = \"./output/baseline/\"\n",
    "\n",
    "print(os.path.dirname(path))\n"
   ]
  },
  {
   "cell_type": "code",
   "execution_count": null,
   "metadata": {},
   "outputs": [],
   "source": [
    "a = [i for i in range(10)]\n",
    "a[-20:]"
   ]
  },
  {
   "cell_type": "code",
   "execution_count": null,
   "metadata": {},
   "outputs": [],
   "source": [
    "import pandas as pd\n",
    "\n",
    "orig_path_x = './predict_data_raw/test_x/0001in.csv'\n",
    "orig_path_y = './predict_data_raw/test_y/0001out.csv'\n",
    "\n",
    "orig_data_x = pd.read_csv(orig_path_x)\n",
    "orig_path_y = pd.read_csv(orig_path_y)\n",
    "\n",
    "orig_data = pd.concat([orig_data_x, orig_path_y], axis=0)\n",
    "print(orig_data.shape)\n",
    "orig_data = orig_data.groupby('TurbID', group_keys=False).apply(lambda x: x.sort_values(['Day', 'Tmstamp'], ascending=True))\n",
    "\n",
    "columns_name = orig_data.columns\n",
    "data = orig_data.values\n",
    "data = data.reshape(134, -1, len(columns_name))\n",
    "print(data.shape)\n",
    "\n",
    "x_step = 144 \n",
    "y_step = 288\n",
    "test_x = './predict_data/test_x/'\n",
    "test_y = './predict_data/test_y/'\n",
    "for ind, i in enumerate(range(0, 14)):\n",
    "    div_data = data[:, i*x_step:(i+1)*x_step + y_step, :]\n",
    "\n",
    "    x_data = pd.DataFrame(div_data[:, :x_step,:].reshape(-1, len(columns_name)), columns=columns_name)\n",
    "    y_data = pd.DataFrame(div_data[:,-y_step:,:].reshape(-1, len(columns_name)), columns=columns_name)\n",
    "    print(ind, ' data shape', x_data.shape, y_data.shape)\n",
    "    x_data.to_csv(f'{test_x}/{ind}_x.csv', index=False)\n",
    "    y_data.to_csv(f'{test_y}/{ind}_y.csv', index=False)"
   ]
  },
  {
   "cell_type": "code",
   "execution_count": null,
   "metadata": {},
   "outputs": [],
   "source": [
    "import os\n",
    "import zipfile\n"
   ]
  },
  {
   "cell_type": "code",
   "execution_count": 2,
   "metadata": {},
   "outputs": [
    {
     "data": {
      "text/plain": [
       "'/home/user/david/kdd/Data_Competitions/KDD2022_WPF/predict_data/test_x'"
      ]
     },
     "execution_count": 2,
     "metadata": {},
     "output_type": "execute_result"
    }
   ],
   "source": []
  },
  {
   "cell_type": "code",
   "execution_count": 4,
   "metadata": {},
   "outputs": [
    {
     "name": "stdout",
     "output_type": "stream",
     "text": [
      "0_x.zip\n",
      "1_x.zip\n",
      "2_x.zip\n",
      "3_x.zip\n",
      "4_x.zip\n",
      "5_x.zip\n",
      "6_x.zip\n",
      "7_x.zip\n",
      "8_x.zip\n",
      "9_x.zip\n",
      "10_x.zip\n",
      "11_x.zip\n",
      "12_x.zip\n",
      "13_x.zip\n"
     ]
    }
   ],
   "source": [
    "import os\n",
    "import zipfile\n",
    "\n",
    "def zip_test():\n",
    "    path = './'\n",
    "    file_name = os.listdir(path)\n",
    "    for file in file_name:\n",
    "        path_zip = file.split('.')[0] + '.zip'\n",
    "        print(path_zip)\n",
    "        zip = zipfile.ZipFile(path_zip, \"w\", zipfile.ZIP_DEFLATED)\n",
    "        zip.write(file)\n",
    "        zip.close()"
   ]
  },
  {
   "cell_type": "code",
   "execution_count": 6,
   "metadata": {},
   "outputs": [
    {
     "data": {
      "text/plain": [
       "'/home/user/david/kdd/Data_Competitions/KDD2022_WPF/predict_data/test_y'"
      ]
     },
     "execution_count": 6,
     "metadata": {},
     "output_type": "execute_result"
    }
   ],
   "source": [
    "os.getcwd()\n",
    "os.chdir(\"/home/user/david/kdd/Data_Competitions/KDD2022_WPF/predict_data/test_x/\")\n",
    "os.getcwd()\n",
    "\n",
    "zip_test()\n",
    "\n",
    "os.getcwd()\n",
    "os.chdir(\"/home/user/david/kdd/Data_Competitions/KDD2022_WPF/predict_data/test_y/\")\n",
    "os.getcwd()\n",
    "\n",
    "zip_test()"
   ]
  },
  {
   "cell_type": "code",
   "execution_count": null,
   "metadata": {},
   "outputs": [],
   "source": []
  },
  {
   "cell_type": "markdown",
   "metadata": {},
   "source": [
    "### RidgeCV"
   ]
  },
  {
   "cell_type": "code",
   "execution_count": 14,
   "metadata": {},
   "outputs": [],
   "source": [
    "import pandas as pd\n",
    "import numpy as np\n",
    "from sklearn.linear_model import RidgeCV\n",
    "from metrics import regressor_detailed_scores\n",
    "import joblib\n",
    "\n",
    "def find_param(pred, save_path):\n",
    "    '''\n",
    "    find better weights of models.\n",
    "    pred: list(num_pred) preds shape: [134, 288]\n",
    "\n",
    "    save_path: the path to save the ensemble model\n",
    "    '''\n",
    "    y = pd.read_csv('./predict_data_raw/test_y/0001out.csv').fillna(0)\n",
    "\n",
    "    gt = y['Patv'].values.reshape(134, 1, 288, 1)\n",
    "\n",
    "    cols_data = y.columns[3:]\n",
    "    df_data = y[cols_data]\n",
    "\n",
    "    raw_data = df_data.values\n",
    "    raw_data = np.reshape(\n",
    "        raw_data, [134, 288, len(cols_data)])\n",
    "\n",
    "    raw_df = []\n",
    "    for turb_id in range(134):\n",
    "        raw_df.append(\n",
    "            pd.DataFrame(\n",
    "                data=raw_data[turb_id,:,:],\n",
    "                columns=cols_data))\n",
    "    mean_pred = np.concatenate(pred, axis=-1).mean(-1)\n",
    "    _mae, _rmse = regressor_detailed_scores(mean_pred.reshape(134, 1, 288, 1), gt, raw_df, 134, 288)\n",
    "    score1 = (_mae + _rmse) / 2\n",
    "    print('the score of emsemble by mean:' , score1)\n",
    "\n",
    "    X = np.concatenate(pred, axis=-1).reshape(134*288, -1)\n",
    "    lin_reg = RidgeCV(alphas=np.logspace(0.1, 10, 20))\n",
    "    lin_reg.fit(X, gt.reshape(-1))\n",
    "    \n",
    "    pred = lin_reg.predict(X)\n",
    "    joblib.dump(lin_reg, save_path)\n",
    "    print(pred.shape)\n",
    "    mae, rmse = regressor_detailed_scores(gt, pred.reshape(134, 1, 288, 1), raw_df, 134, 288)\n",
    "    score2 = (mae + rmse) / 2\n",
    "    print('the score of ensemble by ridge:', score2)\n",
    "    print(f'End! {score1} -> {score2}')\n",
    "    print(f'Ensemble Weights: {lin_reg.coef_}')\n",
    "    print(f'Sum of weights: {sum(lin_reg.coef_)}')"
   ]
  },
  {
   "cell_type": "code",
   "execution_count": 15,
   "metadata": {},
   "outputs": [
    {
     "name": "stdout",
     "output_type": "stream",
     "text": [
      "the number of pred models: 11\n"
     ]
    },
    {
     "name": "stderr",
     "output_type": "stream",
     "text": [
      "/home/user/david/kdd/Data_Competitions/KDD2022_WPF/metrics.py:200: RuntimeWarning: Mean of empty slice.\n",
      "  avg_mae = np.array(maes).mean()\n",
      "/home/user/.local/lib/python3.7/site-packages/numpy/core/_methods.py:170: RuntimeWarning: invalid value encountered in double_scalars\n",
      "  ret = ret.dtype.type(ret / rcount)\n",
      "/home/user/david/kdd/Data_Competitions/KDD2022_WPF/metrics.py:201: RuntimeWarning: Mean of empty slice.\n",
      "  avg_rmse = np.array(rmses).mean()\n"
     ]
    },
    {
     "name": "stdout",
     "output_type": "stream",
     "text": [
      "===Valid=== First day: 22.018989081078132,             Second day: nan\n",
      "the score of emsemble by mean: 43.11385200826603\n",
      "(38592,)\n"
     ]
    },
    {
     "name": "stderr",
     "output_type": "stream",
     "text": [
      "/home/user/david/kdd/Data_Competitions/KDD2022_WPF/metrics.py:200: RuntimeWarning: Mean of empty slice.\n",
      "  avg_mae = np.array(maes).mean()\n",
      "/home/user/.local/lib/python3.7/site-packages/numpy/core/_methods.py:170: RuntimeWarning: invalid value encountered in double_scalars\n",
      "  ret = ret.dtype.type(ret / rcount)\n",
      "/home/user/david/kdd/Data_Competitions/KDD2022_WPF/metrics.py:201: RuntimeWarning: Mean of empty slice.\n",
      "  avg_rmse = np.array(rmses).mean()\n"
     ]
    },
    {
     "name": "stdout",
     "output_type": "stream",
     "text": [
      "===Valid=== First day: 25.806200755696622,             Second day: nan\n",
      "the score of ensemble by ridge: 34.62006723210622\n",
      "End! 43.11385200826603 -> 34.62006723210622\n",
      "Ensemble Weights: [-4.19490609  8.21360701  0.36961352 -1.0786158   4.21470329 -5.76195406\n",
      " -4.9736279  -2.61237985  5.40618876  1.19955388  1.14398665]\n",
      "Sum of weights: 1.9261694105127596\n"
     ]
    }
   ],
   "source": [
    "\n",
    "if __name__ == '__main__':\n",
    "    # import pickle\n",
    "    # with open('./multi_predictions.pkl', 'rb') as f:\n",
    "    #     pred_data = pickle.load(f)\n",
    "    import joblib\n",
    "    pred_data = joblib.load('./multi_predictions.pkl')\n",
    "    print('the number of pred models:', len(pred_data))\n",
    "    save_path = 'ensemble_model.pkl'\n",
    "    find_param(pred_data, save_path)"
   ]
  },
  {
   "cell_type": "code",
   "execution_count": 7,
   "metadata": {},
   "outputs": [
    {
     "data": {
      "text/plain": [
       "array([1.25892541e+00, 4.17881006e+00, 1.38709199e+01, 4.60423938e+01,\n",
       "       1.52830673e+02, 5.07298009e+02, 1.68389803e+03, 5.58944158e+03,\n",
       "       1.85532951e+04, 6.15848211e+04, 2.04421380e+05, 6.78545457e+05,\n",
       "       2.25232770e+06, 7.47625680e+06, 2.48162892e+07, 8.23738707e+07,\n",
       "       2.73427446e+08, 9.07600522e+08, 3.01264090e+09, 1.00000000e+10])"
      ]
     },
     "execution_count": 7,
     "metadata": {},
     "output_type": "execute_result"
    }
   ],
   "source": [
    "np.logspace(0.1, 10, 20)"
   ]
  },
  {
   "cell_type": "code",
   "execution_count": null,
   "metadata": {},
   "outputs": [],
   "source": [
    "Ensemble Weights: [-4.19490609  8.21360701  0.36961352 -1.0786158   4.21470329 -5.76195406\n",
    " -4.9736279  -2.61237985  5.40618876  1.19955388  1.14398665]"
   ]
  }
 ],
 "metadata": {
  "interpreter": {
   "hash": "d61e67d4406f83661a218a7594034be74564666d0640d3900a3e99845865d0f0"
  },
  "kernelspec": {
   "display_name": "Python 3.7.11 ('torch')",
   "language": "python",
   "name": "python3"
  },
  "language_info": {
   "codemirror_mode": {
    "name": "ipython",
    "version": 3
   },
   "file_extension": ".py",
   "mimetype": "text/x-python",
   "name": "python",
   "nbconvert_exporter": "python",
   "pygments_lexer": "ipython3",
   "version": "3.7.11"
  },
  "orig_nbformat": 4
 },
 "nbformat": 4,
 "nbformat_minor": 2
}
